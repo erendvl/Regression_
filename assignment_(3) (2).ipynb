{
 "cells": [
  {
   "cell_type": "code",
   "execution_count": 57,
   "id": "dbd89265",
   "metadata": {},
   "outputs": [
    {
     "name": "stdout",
     "output_type": "stream",
     "text": [
      "      Price  Year      Type   Shift      km  Power  Engine  Seller\n",
      "0     24900  2004    Diesel  Manual  270000     70    1248  Dealer\n",
      "1     27500  2004  Gasoline  Manual  164000     75    1199  Dealer\n",
      "2     42500  2008    Diesel    Auto  300000     90    1248  Dealer\n",
      "3     63750  2017  Gasoline    Auto    8780     90    1398  Dealer\n",
      "4     25000  2004    Diesel  Manual  200000     70    1248   Owner\n",
      "...     ...   ...       ...     ...     ...    ...     ...     ...\n",
      "2895  12000  1993       LPG  Manual  187000     76    1201   Owner\n",
      "2896  42500  2009  Gasoline    Auto   68500     80    1229   Owner\n",
      "2897  35750  2012       LPG  Manual  142257    100    1364   Owner\n",
      "2898  34750  2010    Diesel  Manual  135000     90    1248  Dealer\n",
      "2899  40500  2014    Diesel  Manual  131500     75    1248  Dealer\n",
      "\n",
      "[2900 rows x 8 columns]\n"
     ]
    }
   ],
   "source": [
    "import pandas as pd\n",
    "import numpy as np\n",
    "from sklearn.linear_model import LinearRegression\n",
    "from sklearn.model_selection import cross_val_score\n",
    "from sklearn.metrics import r2_score,mean_squared_error\n",
    "import matplotlib.pyplot as plt\n",
    "from sklearn.decomposition import FactorAnalysis\n",
    "from sklearn.model_selection import train_test_split\n",
    "from sklearn.linear_model import Ridge\n",
    "from sklearn.linear_model import Lasso\n",
    "\n",
    "\n",
    "\n",
    "\n",
    "\n",
    "df=pd.read_excel('asg1_traindata.xlsx')\n",
    "print(df)\n",
    "#Read data"
   ]
  },
  {
   "cell_type": "markdown",
   "id": "0039ded5",
   "metadata": {},
   "source": [
    "df_dummy=pd.get_dummies(df,columns=['Type','Shift','Seller'],prefix=\"\")\n",
    "df_dummy\n",
    "#Make dummy variables for categorical variables"
   ]
  },
  {
   "cell_type": "code",
   "execution_count": 58,
   "id": "8af20de4",
   "metadata": {},
   "outputs": [],
   "source": [
    "\n",
    "#Make dummy variables for categorical variables\n",
    "df_dummy=pd.get_dummies(df,columns=['Type','Shift','Seller'],prefix=\"\")\n",
    "\n",
    "#Build x and y\n",
    "x=df_dummy.drop([\"Price\"],axis=1).values\n",
    "y=df[\"Price\"].values\n",
    "\n",
    "#split x,y into train and test\n",
    "x_train,x_test,y_train,y_test=train_test_split(x,y,test_size=0.3,random_state=0)"
   ]
  },
  {
   "cell_type": "code",
   "execution_count": 64,
   "id": "77f2a748",
   "metadata": {},
   "outputs": [
    {
     "name": "stdout",
     "output_type": "stream",
     "text": [
      "Train error when lambda is 0.2:  0.8580473887103984\n",
      "----------------------\n",
      "Test error when lambda is 0.2:  0.8930120539954165\n",
      "----------------------\n",
      "Coefficents when lambda is 0.2:  [ 1.55086628e+03 -4.27481276e-02  9.16871997e+00  7.48944910e+00\n",
      " -8.56898092e+01 -4.23878835e+02  5.09568645e+02  2.13160676e+03\n",
      " -2.13160676e+03 -1.08815309e+02  1.08815309e+02]\n",
      "-------------------------------------------------------------------------------------------\n",
      "Alpha value:  [5.]\n",
      "----------------------\n",
      "Train error:  0.8580462291850404\n",
      "----------------------\n",
      "Test error: [0.89302974]\n",
      "----------------------\n",
      "Coefficent are: [[ 1.55063731e+03 -4.27761030e-02  9.24836878e+00  7.50025485e+00\n",
      "  -9.01306968e+01 -4.14415241e+02  5.04545938e+02  2.11601620e+03\n",
      "  -2.11601620e+03 -1.07195809e+02  1.07195809e+02]]\n"
     ]
    }
   ],
   "source": [
    "#Lambda range\n",
    "l_min=0.2\n",
    "l_max=5\n",
    "l_num=100\n",
    "lambdas=np.linspace(l_min,l_max,l_num)\n",
    "\n",
    "#Array for errors\n",
    "Rsq_train=np.zeros(l_num)\n",
    "Rsq_test=np.zeros(l_num)\n",
    "\n",
    "#Coefficent's number sized array\n",
    "pred_num=x.shape[1]\n",
    "\n",
    "#Alpha values array\n",
    "alpha_values_ridge=np.zeros(l_num)\n",
    "\n",
    "#All regression coefficents and alphas\n",
    "coef_a=np.zeros((l_num,pred_num))\n",
    "\n",
    "#Iteration and model evaluation\n",
    "for ind,i in enumerate(lambdas):\n",
    "    ridge_reg=Ridge(alpha=i).fit(x_train,y_train)\n",
    "    scores=cross_val_score(ridge_reg,x,y,cv=10,scoring=\"r2\")\n",
    "    Rsq_train[ind]=ridge_reg.score(x_train,y_train)\n",
    "    Rsq_test[ind]=ridge_reg.score(x_test,y_test)\n",
    "    coef_a[ind,:]=ridge_reg.coef_\n",
    "    alpha_values_ridge[ind]=i\n",
    "    if i==0.2:\n",
    "        lambda_pointtwo_train=Rsq_train[ind]\n",
    "        lambda_pointtwo_test= Rsq_test[ind]\n",
    "        lambda_pointtwo_coef=coef_a[ind,:]\n",
    "    \n",
    "#Best model with least error\n",
    "best_rsq_train_err=min(Rsq_train)\n",
    "ind_of_best=np.where(Rsq_train==best_rsq_train_err)\n",
    "best_rsq_test_err=Rsq_test[ind_of_best]\n",
    "\n",
    "#Alpha 0.2\n",
    "print(\"Train error when lambda is 0.2: \",lambda_pointtwo_train)\n",
    "print(\"----------------------\")\n",
    "print(\"Test error when lambda is 0.2: \",lambda_pointtwo_test)\n",
    "print(\"----------------------\")\n",
    "print(\"Coefficents when lambda is 0.2: \",lambda_pointtwo_coef)\n",
    "print(\"-------------------------------------------------------------------------------------------\")\n",
    "\n",
    "\n",
    "#Best model's summary\n",
    "print(\"Alpha value: \",alpha_values_ridge[ind_of_best])\n",
    "print(\"----------------------\")\n",
    "print(\"Train error: \",best_rsq_train_err)\n",
    "print(\"----------------------\")\n",
    "print(\"Test error:\",best_rsq_test_err)   \n",
    "print(\"----------------------\")\n",
    "print(\"Coefficent are:\",coef_a[ind_of_best])\n"
   ]
  },
  {
   "cell_type": "code",
   "execution_count": 65,
   "id": "8da37861",
   "metadata": {},
   "outputs": [
    {
     "name": "stdout",
     "output_type": "stream",
     "text": [
      "Train error when lambda is 0.3:  0.8580473784505706\n",
      "----------------------\n",
      "Test error when lambda is 0.3:  0.8930120893782251\n",
      "----------------------\n",
      "Coefficents when lambda is 0.3:  [ 1.55081606e+03 -4.27467037e-02  9.16947162e+00  7.49036633e+00\n",
      " -0.00000000e+00 -3.37033448e+02  5.94090718e+02  4.26231804e+03\n",
      " -1.53610079e-10 -2.16451605e+02  0.00000000e+00]\n",
      "-------------------------------------------------------------------------------------------\n",
      "Alpha value:  [5.]\n",
      "----------------------\n",
      "Train error:  0.858044015583689\n",
      "----------------------\n",
      "Test error: [0.89302193]\n",
      "----------------------\n",
      "Coefficent are: [[ 1.54988413e+03 -4.27423350e-02  9.23302782e+00  7.51191189e+00\n",
      "   0.00000000e+00 -3.09690151e+02  5.75458378e+02  4.22775296e+03\n",
      "  -1.74084402e-11 -1.95848690e+02  0.00000000e+00]]\n"
     ]
    }
   ],
   "source": [
    "\n",
    "#Array for errors\n",
    "lasso_train=np.zeros(l_num)\n",
    "lasso_test=np.zeros(l_num)\n",
    "\n",
    "#Coefficent's number sized array\n",
    "pred_num_lass=x.shape[1]\n",
    "\n",
    "#All regression coefficents and alphas\n",
    "coef_a_lass=np.zeros((l_num,pred_num))\n",
    "\n",
    "#Alpha values array\n",
    "alpha_values=np.zeros(l_num)\n",
    "\n",
    "for ind,i in enumerate(lambdas):\n",
    "    lasso_reg=Lasso(alpha=i).fit(x_train,y_train)\n",
    "    scores=cross_val_score(lasso_reg,x,y,cv=10,scoring=\"r2\")\n",
    "    lasso_train[ind]=lasso_reg.score(x_train,y_train)\n",
    "    lasso_test[ind]=lasso_reg.score(x_test,y_test)\n",
    "    coef_a_lass[ind,:]=lasso_reg.coef_\n",
    "    alpha_values[ind]=i\n",
    "    \n",
    "    if i==0.3:\n",
    "        lambda_pointthree_train=lasso_train[ind]\n",
    "        lambda_pointthree_test= lasso_test[ind]\n",
    "        lambda_pointthree_coef=coef_a_lass[ind,:]\n",
    "        \n",
    "\n",
    "  \n",
    "\n",
    "\n",
    "\n",
    " #Best model with least error\n",
    "best_lasso_train_err=min(lasso_train)\n",
    "ind_of_best_l=np.where(lasso_train==best_lasso_train_err)\n",
    "best_lasso_test_err=lasso_test[ind_of_best_l]\n",
    "\n",
    "#Alpha 0.3\n",
    "print(\"Train error when lambda is 0.3: \",lambda_pointthree_train)\n",
    "print(\"----------------------\")\n",
    "print(\"Test error when lambda is 0.3: \",lambda_pointthree_test)\n",
    "print(\"----------------------\")\n",
    "print(\"Coefficents when lambda is 0.3: \",lambda_pointthree_coef)\n",
    "print(\"-------------------------------------------------------------------------------------------\")\n",
    "\n",
    "#Best model's summary\n",
    "print(\"Alpha value: \",alpha_values[ind_of_best_l])\n",
    "print(\"----------------------\")\n",
    "print(\"Train error: \",best_lasso_train_err)\n",
    "print(\"----------------------\")\n",
    "print(\"Test error:\",best_lasso_test_err)    \n",
    "print(\"----------------------\")\n",
    "print(\"Coefficent are:\",coef_a_lass[ind_of_best_l])\n",
    "\n",
    "    \n"
   ]
  },
  {
   "cell_type": "raw",
   "id": "d1020918",
   "metadata": {},
   "source": [
    "\n"
   ]
  },
  {
   "cell_type": "code",
   "execution_count": 61,
   "id": "fb3a5553",
   "metadata": {},
   "outputs": [
    {
     "name": "stdout",
     "output_type": "stream",
     "text": [
      "Train error:  0.8345632060021715 Test error:  0.8930112622817195 Coefficent are: [ 1.55087563e+03 -4.27469778e-02  9.16540591e+00  7.48899193e+00\n",
      " -8.55007426e+01 -4.24279020e+02  5.09779763e+02  2.13226212e+03\n",
      " -2.13226212e+03 -1.08883374e+02  1.08883374e+02]\n"
     ]
    }
   ],
   "source": [
    "#Multiple regression withour ridge or lasso\n",
    "\n",
    "ml=LinearRegression()\n",
    "\n",
    "#Train model\n",
    "ml.fit(x_train,y_train)\n",
    "\n",
    "\n",
    "#Train r2 score\n",
    "y_train_predict=ml.predict(x_train)\n",
    "\n",
    "\n",
    "#Test r2 score\n",
    "y_test_predict=ml.predict(x_test)\n",
    "\n",
    "\n",
    "#Summary\n",
    "\n",
    "print(\"Train error: \",r2_score(y_train_predict,y_train),\"Test error: \",r2_score(y_test,y_test_predict),\"Coefficent are:\",ml.coef_)"
   ]
  },
  {
   "cell_type": "code",
   "execution_count": 62,
   "id": "6e02e2f8",
   "metadata": {},
   "outputs": [
    {
     "name": "stdout",
     "output_type": "stream",
     "text": [
      "    Year      Type   Shift      km  Power  Engine  Seller\n",
      "0   2013    Diesel  Manual   60000     75    1248   Owner\n",
      "1   2004  Gasoline  Manual  108000     80    1229  Dealer\n",
      "2   2005  Gasoline  Manual  134500     80    1229   Owner\n",
      "3   2000       LPG  Manual  200000     90    1389  Dealer\n",
      "4   2003    Diesel  Manual  168000     51    1601   Owner\n",
      "..   ...       ...     ...     ...    ...     ...     ...\n",
      "89  2004    Diesel  Manual  202000     70    1248   Owner\n",
      "90  2012  Gasoline    Auto   70000     85    1229  Dealer\n",
      "91  2012  Gasoline    Auto   27000    100    1364   Owner\n",
      "92  1997       LPG  Manual  186000     90    1389  Dealer\n",
      "93  2011    Diesel  Manual  130000     75    1248   Owner\n",
      "\n",
      "[94 rows x 7 columns]\n",
      "    Year      km  Power  Engine  _Diesel  _Gasoline  _LPG  _Auto  _Manual  \\\n",
      "0   2013   60000     75    1248        1          0     0      0        1   \n",
      "1   2004  108000     80    1229        0          1     0      0        1   \n",
      "2   2005  134500     80    1229        0          1     0      0        1   \n",
      "3   2000  200000     90    1389        0          0     1      0        1   \n",
      "4   2003  168000     51    1601        1          0     0      0        1   \n",
      "..   ...     ...    ...     ...      ...        ...   ...    ...      ...   \n",
      "89  2004  202000     70    1248        1          0     0      0        1   \n",
      "90  2012   70000     85    1229        0          1     0      1        0   \n",
      "91  2012   27000    100    1364        0          1     0      1        0   \n",
      "92  1997  186000     90    1389        0          0     1      0        1   \n",
      "93  2011  130000     75    1248        1          0     0      0        1   \n",
      "\n",
      "    _Dealer  _Owner  \n",
      "0         0       1  \n",
      "1         1       0  \n",
      "2         0       1  \n",
      "3         1       0  \n",
      "4         0       1  \n",
      "..      ...     ...  \n",
      "89        0       1  \n",
      "90        1       0  \n",
      "91        0       1  \n",
      "92        1       0  \n",
      "93        0       1  \n",
      "\n",
      "[94 rows x 11 columns]\n"
     ]
    }
   ],
   "source": [
    "#Predictions of 94 cars's prices\n",
    "df1=pd.read_excel('asg1_testdata_without_prices.xlsx')\n",
    "print(df1)\n",
    "#Make dummy variables for categorical variables\n",
    "df1_dummy=pd.get_dummies(df1,columns=['Type','Shift','Seller'],prefix=\"\")\n",
    "print(df1_dummy)\n",
    "\n"
   ]
  },
  {
   "cell_type": "code",
   "execution_count": 66,
   "id": "d2644b43",
   "metadata": {
    "scrolled": false
   },
   "outputs": [
    {
     "name": "stdout",
     "output_type": "stream",
     "text": [
      "[45107.72260625 28505.03330613 29118.09425021 20552.5866643\n",
      " 27422.82133037 48250.84525053 40536.91238747 29960.75814945\n",
      " 42318.31075795 18578.7188148  50253.60829572 18887.78642841\n",
      " 47663.5289105  37166.01875322 29179.90501486 37450.06035249\n",
      " 39326.06277107 30721.26688218 29538.55574759 53930.00367527\n",
      " 51827.00071215 22663.04776758 20161.20273495 50611.76431696\n",
      " 18930.9371416   7715.62307916 48522.92592084 29718.58404414\n",
      " 15821.79212355 20652.7395879  23580.58953809 47892.63749739\n",
      " 24539.72287859 50519.37682369 42190.08375283 26231.29442705\n",
      " 55494.1409629  36168.96929688 44157.18013862 21435.16279408\n",
      " 25128.38883802 28403.30115485 38075.46036288 15495.97605268\n",
      " 47482.95746183 50017.62887397 17787.93953535 43080.68534054\n",
      " 25128.67337215 27083.0032425  48845.8460477  53139.17818427\n",
      " 26578.95733355 43891.93505398 25884.31612331 30776.44972352\n",
      " 31203.40569977 58260.90287044 27394.01712923 45577.88829168\n",
      " 41420.72172212 27929.2452912  32280.69558155 30623.00663781\n",
      " 26251.13415392 54758.59060601 26098.0277985  53946.48624026\n",
      " 37494.23815399 44936.72520286 22469.28882707 16829.87749754\n",
      " 20752.6532044  41677.17573236 41866.00805726 32656.6450911\n",
      " 34226.49332236 29929.93967693 43555.27926529 33383.26478677\n",
      " 36170.64575096 28289.56659286 24345.59206189 27719.99596176\n",
      " 26346.49762449 25455.2590327  42421.65841277 26222.41894942\n",
      " 32636.75122224 25043.18870207 46802.23319859 49988.60581847\n",
      " 16501.32695835 39015.99088917]\n"
     ]
    }
   ],
   "source": [
    "#Predicting Prices with Lasso\n",
    "\n",
    "evaluated_lasso=Lasso(alpha=5).fit(x_train,y_train)\n",
    "price_prediction=evaluated_lasso.predict(df1_dummy.values)\n",
    "\n",
    "print(price_prediction)"
   ]
  },
  {
   "cell_type": "code",
   "execution_count": null,
   "id": "b46dab98",
   "metadata": {},
   "outputs": [],
   "source": []
  }
 ],
 "metadata": {
  "kernelspec": {
   "display_name": "Python 3 (ipykernel)",
   "language": "python",
   "name": "python3"
  },
  "language_info": {
   "codemirror_mode": {
    "name": "ipython",
    "version": 3
   },
   "file_extension": ".py",
   "mimetype": "text/x-python",
   "name": "python",
   "nbconvert_exporter": "python",
   "pygments_lexer": "ipython3",
   "version": "3.10.6"
  }
 },
 "nbformat": 4,
 "nbformat_minor": 5
}
